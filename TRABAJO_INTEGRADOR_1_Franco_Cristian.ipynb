{
  "cells": [
    {
      "cell_type": "markdown",
      "metadata": {
        "id": "yWFMEJp2Zd1E"
      },
      "source": [
        "# ***TRABAJO INTEGRADOR I-***\n",
        "DATOS BASADOS EN INFORMACIÓN PÚBLICA EN ARGENTINA\n",
        "---\n",
        "---\n",
        "\n"
      ]
    },
    {
      "cell_type": "markdown",
      "metadata": {
        "id": "DzfaPyiWmMZJ"
      },
      "source": [
        "### **Acceso a los diferentes dataset y visualizacion**"
      ]
    },
    {
      "cell_type": "markdown",
      "metadata": {},
      "source": [
        "\n",
        "#### Los dataset podran ser descargado del siguiente [enlace de drive](https://drive.google.com/drive/folders/1J-R6fricR7D1uf9g_Cg8gbIMajCe-eYw?usp=sharing). \n",
        "En algunos casos los datase contiene información de diferentes periodos de tiempo y etiquetas de las variables con nomenclatura específica. Para tener referencia de los datos de cada variables de la base de datos consultar en los siguientes enlaces según el dataset elegido.\n",
        "\n",
        "\n",
        "\n",
        "|    | Tema | Nombre del archivo | Enlace |\n",
        "|--- |---   |         ---        |   ---  |\n",
        "1   | .... | spam.csv  |  ....   |\n",
        "2   | supermercados| ventas-supermercados-2.csv  | [dataset de supermercados](https://www.datos.gob.ar/dataset/sspm_455/archivo/sspm_455.1) |\n",
        "3   | Mercado Central de Bs As |precios-mercadocentral.csv| [dataset de mercado](https://datos.gob.ar/ar/dataset/agroindustria-frutas-hortalizas---precios-mayoristas/archivo/agroindustria_6dce1e87-7988-4eaf-b0e1-b3abbb3964da)"
      ]
    },
    {
      "cell_type": "markdown",
      "metadata": {
        "id": "s6OYVREZDtXF"
      },
      "source": [
        "### ***Datos del alumno***"
      ]
    },
    {
      "cell_type": "markdown",
      "metadata": {},
      "source": [
        "Franco, Cristian, 39039686, cristianprogramadorunsa@gmail.com"
      ]
    },
    {
      "cell_type": "markdown",
      "metadata": {},
      "source": [
        "### ***Dataset elegido:*** "
      ]
    },
    {
      "cell_type": "markdown",
      "metadata": {
        "id": "OKsbIcB8EYGh"
      },
      "source": [
        "Mercado Central de Bs. As\n",
        "\n",
        "**Elegimos este dataset debido a:**\n",
        "* La facilidad para crear relaciones entre las variables\n",
        "* La utilidad que tendria en la cotidianeidad.\n",
        "* La similitud con las clases practicas.\n",
        "\n",
        "**Problematica**\n",
        "\n",
        "Necesitamos saber cuál sera el precio de una fruta, dado el nombre de dicha fruta. Esto sabiendo que el año, el pais y demas factores no se tomaran en cuenta.\n",
        "\n",
        "**Impacto**\n",
        "\n",
        "Como ya se dijo, es de uso cotidiano relacionar el nombre de un producto con su precio agregandole claro, la importancia o época de dicho producto. Por lo que será de mucha utilidad para la sociedad anticipar precios de algo tan cotidiano como las frutas y las verduras. Esto servirá además para facilitar la administración realista y actual de la economía hogareña.\n",
        "\n",
        "**Objetivo**\n",
        "\n",
        "Espero poder predecir el precio de las frutas y verduras, dado su nombre, y que al hacerlo obtengamos un minimo error respecto a la realidad. Tratare de conseguir datos mas actuales dentro del mercado para probar el modelo y verificar si nos aproximamos a la actualidad, dado que los datos del dataset pertenecen a los años 2017 y 2018.\n",
        "\n",
        "\n",
        "  "
      ]
    },
    {
      "cell_type": "markdown",
      "metadata": {},
      "source": [
        "### ***Empecemos***"
      ]
    },
    {
      "cell_type": "code",
      "execution_count": 1,
      "metadata": {
        "id": "odPaV0FxWJHw"
      },
      "outputs": [],
      "source": [
        "# Importamos las librerias necesarias\n",
        "import pandas as pd\n",
        "import numpy as np\n",
        "import matplotlib.pyplot as plt\n",
        "from sklearn.linear_model import LinearRegression"
      ]
    },
    {
      "cell_type": "markdown",
      "metadata": {},
      "source": [
        "### ***1- Ingresamos el DATA SET***"
      ]
    },
    {
      "cell_type": "code",
      "execution_count": 6,
      "metadata": {
        "id": "fDny-v5Dxl6I"
      },
      "outputs": [],
      "source": [
        "#Subir archivo en la carpetita que aparece a la izquierda del colab, luego copiar la ruta y subirlo con las librerias necesarias\n",
        "\n",
        "df = pd.read_csv('./precios-mercadocentral.csv', encoding='ISO-8859-1')"
      ]
    },
    {
      "cell_type": "markdown",
      "metadata": {
        "id": "ajWaCuM0zJhN"
      },
      "source": [
        "### ***2- Aplicamos PROCESO de AED***"
      ]
    },
    {
      "cell_type": "code",
      "execution_count": 7,
      "metadata": {
        "id": "7t0-4wZyziwH"
      },
      "outputs": [
        {
          "data": {
            "text/html": [
              "<div>\n",
              "<style scoped>\n",
              "    .dataframe tbody tr th:only-of-type {\n",
              "        vertical-align: middle;\n",
              "    }\n",
              "\n",
              "    .dataframe tbody tr th {\n",
              "        vertical-align: top;\n",
              "    }\n",
              "\n",
              "    .dataframe thead th {\n",
              "        text-align: right;\n",
              "    }\n",
              "</style>\n",
              "<table border=\"1\" class=\"dataframe\">\n",
              "  <thead>\n",
              "    <tr style=\"text-align: right;\">\n",
              "      <th></th>\n",
              "      <th>pais_id</th>\n",
              "      <th>año</th>\n",
              "      <th>precio_usd_kg</th>\n",
              "    </tr>\n",
              "  </thead>\n",
              "  <tbody>\n",
              "    <tr>\n",
              "      <th>count</th>\n",
              "      <td>828.0</td>\n",
              "      <td>828.000000</td>\n",
              "      <td>767.000000</td>\n",
              "    </tr>\n",
              "    <tr>\n",
              "      <th>mean</th>\n",
              "      <td>32.0</td>\n",
              "      <td>2017.376812</td>\n",
              "      <td>1.262360</td>\n",
              "    </tr>\n",
              "    <tr>\n",
              "      <th>std</th>\n",
              "      <td>0.0</td>\n",
              "      <td>0.484880</td>\n",
              "      <td>1.437011</td>\n",
              "    </tr>\n",
              "    <tr>\n",
              "      <th>min</th>\n",
              "      <td>32.0</td>\n",
              "      <td>2017.000000</td>\n",
              "      <td>0.000000</td>\n",
              "    </tr>\n",
              "    <tr>\n",
              "      <th>25%</th>\n",
              "      <td>32.0</td>\n",
              "      <td>2017.000000</td>\n",
              "      <td>0.470000</td>\n",
              "    </tr>\n",
              "    <tr>\n",
              "      <th>50%</th>\n",
              "      <td>32.0</td>\n",
              "      <td>2017.000000</td>\n",
              "      <td>0.860000</td>\n",
              "    </tr>\n",
              "    <tr>\n",
              "      <th>75%</th>\n",
              "      <td>32.0</td>\n",
              "      <td>2018.000000</td>\n",
              "      <td>1.460000</td>\n",
              "    </tr>\n",
              "    <tr>\n",
              "      <th>max</th>\n",
              "      <td>32.0</td>\n",
              "      <td>2018.000000</td>\n",
              "      <td>11.230000</td>\n",
              "    </tr>\n",
              "  </tbody>\n",
              "</table>\n",
              "</div>"
            ],
            "text/plain": [
              "       pais_id          año  precio_usd_kg\n",
              "count    828.0   828.000000     767.000000\n",
              "mean      32.0  2017.376812       1.262360\n",
              "std        0.0     0.484880       1.437011\n",
              "min       32.0  2017.000000       0.000000\n",
              "25%       32.0  2017.000000       0.470000\n",
              "50%       32.0  2017.000000       0.860000\n",
              "75%       32.0  2018.000000       1.460000\n",
              "max       32.0  2018.000000      11.230000"
            ]
          },
          "execution_count": 7,
          "metadata": {},
          "output_type": "execute_result"
        }
      ],
      "source": [
        "# Aqui veremos medidas de estadistica descriptiva\n",
        "# Estas medidas seran sobre las variables cuantitativas del dataset \n",
        "df.describe()"
      ]
    },
    {
      "cell_type": "code",
      "execution_count": 8,
      "metadata": {},
      "outputs": [
        {
          "name": "stdout",
          "output_type": "stream",
          "text": [
            "<class 'pandas.core.frame.DataFrame'>\n",
            "RangeIndex: 828 entries, 0 to 827\n",
            "Data columns (total 11 columns):\n",
            " #   Column         Non-Null Count  Dtype  \n",
            "---  ------         --------------  -----  \n",
            " 0   pais_id        828 non-null    int64  \n",
            " 1   pais           828 non-null    object \n",
            " 2   mercado        828 non-null    object \n",
            " 3   año            828 non-null    int64  \n",
            " 4   mes            828 non-null    object \n",
            " 5   producto       828 non-null    object \n",
            " 6   variedad       828 non-null    object \n",
            " 7   origen         828 non-null    object \n",
            " 8   precio_usd_kg  767 non-null    float64\n",
            " 9   moneda_cod     828 non-null    object \n",
            " 10  moneda         828 non-null    object \n",
            "dtypes: float64(1), int64(2), object(8)\n",
            "memory usage: 71.3+ KB\n"
          ]
        }
      ],
      "source": [
        "# En este caso nos informará sobre el nombre, tipo de dato y cuantas filas de dicha columna poseen valor nulo\n",
        "df.info()"
      ]
    },
    {
      "cell_type": "code",
      "execution_count": 9,
      "metadata": {},
      "outputs": [
        {
          "data": {
            "text/html": [
              "<div>\n",
              "<style scoped>\n",
              "    .dataframe tbody tr th:only-of-type {\n",
              "        vertical-align: middle;\n",
              "    }\n",
              "\n",
              "    .dataframe tbody tr th {\n",
              "        vertical-align: top;\n",
              "    }\n",
              "\n",
              "    .dataframe thead th {\n",
              "        text-align: right;\n",
              "    }\n",
              "</style>\n",
              "<table border=\"1\" class=\"dataframe\">\n",
              "  <thead>\n",
              "    <tr style=\"text-align: right;\">\n",
              "      <th></th>\n",
              "      <th>pais_id</th>\n",
              "      <th>pais</th>\n",
              "      <th>mercado</th>\n",
              "      <th>año</th>\n",
              "      <th>mes</th>\n",
              "      <th>producto</th>\n",
              "      <th>variedad</th>\n",
              "      <th>origen</th>\n",
              "      <th>precio_usd_kg</th>\n",
              "      <th>moneda_cod</th>\n",
              "      <th>moneda</th>\n",
              "    </tr>\n",
              "  </thead>\n",
              "  <tbody>\n",
              "    <tr>\n",
              "      <th>0</th>\n",
              "      <td>32</td>\n",
              "      <td>Argentina</td>\n",
              "      <td>Mercado Central de Buenos Aires</td>\n",
              "      <td>2017</td>\n",
              "      <td>Enero</td>\n",
              "      <td>Anana</td>\n",
              "      <td>Perola</td>\n",
              "      <td>Brasil</td>\n",
              "      <td>1.22</td>\n",
              "      <td>USD</td>\n",
              "      <td>Dolares</td>\n",
              "    </tr>\n",
              "    <tr>\n",
              "      <th>1</th>\n",
              "      <td>32</td>\n",
              "      <td>Argentina</td>\n",
              "      <td>Mercado Central de Buenos Aires</td>\n",
              "      <td>2017</td>\n",
              "      <td>Enero</td>\n",
              "      <td>Banana</td>\n",
              "      <td>Cavdich</td>\n",
              "      <td>Ecuador</td>\n",
              "      <td>0.53</td>\n",
              "      <td>USD</td>\n",
              "      <td>Dolares</td>\n",
              "    </tr>\n",
              "    <tr>\n",
              "      <th>2</th>\n",
              "      <td>32</td>\n",
              "      <td>Argentina</td>\n",
              "      <td>Mercado Central de Buenos Aires</td>\n",
              "      <td>2017</td>\n",
              "      <td>Enero</td>\n",
              "      <td>Pomelo</td>\n",
              "      <td>Star Ruby</td>\n",
              "      <td>Argentina</td>\n",
              "      <td>0.86</td>\n",
              "      <td>USD</td>\n",
              "      <td>Dolares</td>\n",
              "    </tr>\n",
              "    <tr>\n",
              "      <th>3</th>\n",
              "      <td>32</td>\n",
              "      <td>Argentina</td>\n",
              "      <td>Mercado Central de Buenos Aires</td>\n",
              "      <td>2017</td>\n",
              "      <td>Enero</td>\n",
              "      <td>Limón</td>\n",
              "      <td>Eureka</td>\n",
              "      <td>Argentina</td>\n",
              "      <td>1.52</td>\n",
              "      <td>USD</td>\n",
              "      <td>Dolares</td>\n",
              "    </tr>\n",
              "    <tr>\n",
              "      <th>4</th>\n",
              "      <td>32</td>\n",
              "      <td>Argentina</td>\n",
              "      <td>Mercado Central de Buenos Aires</td>\n",
              "      <td>2017</td>\n",
              "      <td>Enero</td>\n",
              "      <td>Manzana</td>\n",
              "      <td>Granny Smith</td>\n",
              "      <td>Argentina</td>\n",
              "      <td>1.84</td>\n",
              "      <td>USD</td>\n",
              "      <td>Dolares</td>\n",
              "    </tr>\n",
              "  </tbody>\n",
              "</table>\n",
              "</div>"
            ],
            "text/plain": [
              "   pais_id       pais                          mercado   año    mes producto  \\\n",
              "0       32  Argentina  Mercado Central de Buenos Aires  2017  Enero    Anana   \n",
              "1       32  Argentina  Mercado Central de Buenos Aires  2017  Enero   Banana   \n",
              "2       32  Argentina  Mercado Central de Buenos Aires  2017  Enero   Pomelo   \n",
              "3       32  Argentina  Mercado Central de Buenos Aires  2017  Enero    Limón   \n",
              "4       32  Argentina  Mercado Central de Buenos Aires  2017  Enero  Manzana   \n",
              "\n",
              "       variedad     origen  precio_usd_kg moneda_cod   moneda  \n",
              "0        Perola     Brasil           1.22        USD  Dolares  \n",
              "1       Cavdich    Ecuador           0.53        USD  Dolares  \n",
              "2     Star Ruby  Argentina           0.86        USD  Dolares  \n",
              "3        Eureka  Argentina           1.52        USD  Dolares  \n",
              "4  Granny Smith  Argentina           1.84        USD  Dolares  "
            ]
          },
          "execution_count": 9,
          "metadata": {},
          "output_type": "execute_result"
        }
      ],
      "source": [
        "# Veremos las primeras 5 filas\n",
        "df.head()"
      ]
    },
    {
      "cell_type": "code",
      "execution_count": 10,
      "metadata": {},
      "outputs": [
        {
          "data": {
            "text/html": [
              "<div>\n",
              "<style scoped>\n",
              "    .dataframe tbody tr th:only-of-type {\n",
              "        vertical-align: middle;\n",
              "    }\n",
              "\n",
              "    .dataframe tbody tr th {\n",
              "        vertical-align: top;\n",
              "    }\n",
              "\n",
              "    .dataframe thead th {\n",
              "        text-align: right;\n",
              "    }\n",
              "</style>\n",
              "<table border=\"1\" class=\"dataframe\">\n",
              "  <thead>\n",
              "    <tr style=\"text-align: right;\">\n",
              "      <th></th>\n",
              "      <th>pais_id</th>\n",
              "      <th>pais</th>\n",
              "      <th>mercado</th>\n",
              "      <th>año</th>\n",
              "      <th>mes</th>\n",
              "      <th>producto</th>\n",
              "      <th>variedad</th>\n",
              "      <th>origen</th>\n",
              "      <th>precio_usd_kg</th>\n",
              "      <th>moneda_cod</th>\n",
              "      <th>moneda</th>\n",
              "    </tr>\n",
              "  </thead>\n",
              "  <tbody>\n",
              "    <tr>\n",
              "      <th>823</th>\n",
              "      <td>32</td>\n",
              "      <td>Argentina</td>\n",
              "      <td>Mercado Central de Buenos Aires</td>\n",
              "      <td>2018</td>\n",
              "      <td>Agosto</td>\n",
              "      <td>Repollo</td>\n",
              "      <td>s/especificar</td>\n",
              "      <td>s/especificar</td>\n",
              "      <td>0.36</td>\n",
              "      <td>USD</td>\n",
              "      <td>Dolares</td>\n",
              "    </tr>\n",
              "    <tr>\n",
              "      <th>824</th>\n",
              "      <td>32</td>\n",
              "      <td>Argentina</td>\n",
              "      <td>Mercado Central de Buenos Aires</td>\n",
              "      <td>2018</td>\n",
              "      <td>Agosto</td>\n",
              "      <td>Tomate</td>\n",
              "      <td>s/especificar</td>\n",
              "      <td>s/especificar</td>\n",
              "      <td>1.15</td>\n",
              "      <td>USD</td>\n",
              "      <td>Dolares</td>\n",
              "    </tr>\n",
              "    <tr>\n",
              "      <th>825</th>\n",
              "      <td>32</td>\n",
              "      <td>Argentina</td>\n",
              "      <td>Mercado Central de Buenos Aires</td>\n",
              "      <td>2018</td>\n",
              "      <td>Agosto</td>\n",
              "      <td>Zanahoria</td>\n",
              "      <td>s/especificar</td>\n",
              "      <td>s/especificar</td>\n",
              "      <td>0.29</td>\n",
              "      <td>USD</td>\n",
              "      <td>Dolares</td>\n",
              "    </tr>\n",
              "    <tr>\n",
              "      <th>826</th>\n",
              "      <td>32</td>\n",
              "      <td>Argentina</td>\n",
              "      <td>Mercado Central de Buenos Aires</td>\n",
              "      <td>2018</td>\n",
              "      <td>Agosto</td>\n",
              "      <td>Zapallito</td>\n",
              "      <td>s/especificar</td>\n",
              "      <td>s/especificar</td>\n",
              "      <td>1.01</td>\n",
              "      <td>USD</td>\n",
              "      <td>Dolares</td>\n",
              "    </tr>\n",
              "    <tr>\n",
              "      <th>827</th>\n",
              "      <td>32</td>\n",
              "      <td>Argentina</td>\n",
              "      <td>Mercado Central de Buenos Aires</td>\n",
              "      <td>2018</td>\n",
              "      <td>Agosto</td>\n",
              "      <td>Zapallo</td>\n",
              "      <td>s/especificar</td>\n",
              "      <td>s/especificar</td>\n",
              "      <td>0.32</td>\n",
              "      <td>USD</td>\n",
              "      <td>Dolares</td>\n",
              "    </tr>\n",
              "  </tbody>\n",
              "</table>\n",
              "</div>"
            ],
            "text/plain": [
              "     pais_id       pais                          mercado   año     mes  \\\n",
              "823       32  Argentina  Mercado Central de Buenos Aires  2018  Agosto   \n",
              "824       32  Argentina  Mercado Central de Buenos Aires  2018  Agosto   \n",
              "825       32  Argentina  Mercado Central de Buenos Aires  2018  Agosto   \n",
              "826       32  Argentina  Mercado Central de Buenos Aires  2018  Agosto   \n",
              "827       32  Argentina  Mercado Central de Buenos Aires  2018  Agosto   \n",
              "\n",
              "      producto       variedad         origen  precio_usd_kg moneda_cod  \\\n",
              "823    Repollo  s/especificar  s/especificar           0.36        USD   \n",
              "824     Tomate  s/especificar  s/especificar           1.15        USD   \n",
              "825  Zanahoria  s/especificar  s/especificar           0.29        USD   \n",
              "826  Zapallito  s/especificar  s/especificar           1.01        USD   \n",
              "827    Zapallo  s/especificar  s/especificar           0.32        USD   \n",
              "\n",
              "      moneda  \n",
              "823  Dolares  \n",
              "824  Dolares  \n",
              "825  Dolares  \n",
              "826  Dolares  \n",
              "827  Dolares  "
            ]
          },
          "execution_count": 10,
          "metadata": {},
          "output_type": "execute_result"
        }
      ],
      "source": [
        "# Veremos las últimas 5 filas\n",
        "df.tail()"
      ]
    },
    {
      "cell_type": "code",
      "execution_count": null,
      "metadata": {},
      "outputs": [],
      "source": [
        "# Ahora procederemos a graficar \n",
        "# Esto para poder identificar las cantidad y los valores que cada columna toma a lo largo de las filas\n",
        "\n"
      ]
    },
    {
      "cell_type": "markdown",
      "metadata": {
        "id": "sjms7ns6zW-9"
      },
      "source": [
        "##3- Aplicar PROCESO DE LIMPIEZA"
      ]
    },
    {
      "cell_type": "code",
      "execution_count": null,
      "metadata": {
        "id": "xxgjEruPzjL_"
      },
      "outputs": [],
      "source": []
    },
    {
      "cell_type": "markdown",
      "metadata": {
        "id": "hSzNV8PczkA2"
      },
      "source": [
        "##4- Aplicar PROCESO para DEFINIR tu X e Y para APLICAR REGRESION LINEAL Y LOGISTICA segun el DATA SET a las variables que consideres adecuadas. RECUERDA ESTANDARIZAR LAS VARIABLES PARA CORRELACIÓN LOGÍSTICA."
      ]
    },
    {
      "cell_type": "code",
      "execution_count": null,
      "metadata": {
        "id": "jFO4jxOYz7IM"
      },
      "outputs": [],
      "source": []
    },
    {
      "cell_type": "markdown",
      "metadata": {
        "id": "acd2_sj6z706"
      },
      "source": [
        "##5- Aplicar alguna METRICAS de EVALUACION a los modelos anteriores y justificar la elección de dicha métrica."
      ]
    },
    {
      "cell_type": "code",
      "execution_count": null,
      "metadata": {
        "id": "K5Oaz4h_0CA8"
      },
      "outputs": [],
      "source": []
    },
    {
      "cell_type": "markdown",
      "metadata": {
        "id": "eyul6-kk0Cgt"
      },
      "source": [
        "##6- Sacar una conclusión en función de los resultados, errores, y predicciones."
      ]
    },
    {
      "cell_type": "code",
      "execution_count": null,
      "metadata": {
        "id": "hvqrTPVd0GpU"
      },
      "outputs": [],
      "source": []
    },
    {
      "cell_type": "markdown",
      "metadata": {
        "id": "xMm73P9l0G_V"
      },
      "source": [
        "##7- Aplicar un MODELO DE APRENDIZAJE NO SUPERVISADO (k-means, arbol de  decisión, KNN) Con el resultado obtenido del algoritmo de agrupamiento elegido, agregar al dataset una columna con esta nueva variables del grupo al que pertenece cada dato.\n"
      ]
    },
    {
      "cell_type": "code",
      "execution_count": null,
      "metadata": {
        "id": "WZwplaoM0JFk"
      },
      "outputs": [],
      "source": []
    },
    {
      "cell_type": "markdown",
      "metadata": {
        "id": "HYoODPEl0Mnd"
      },
      "source": [
        "##8- Generar una conclusión con relación a como podría obtener mejores datos en este dataset, o que información considera importante que se podria evaluar para mejorar su predicción encontrada."
      ]
    },
    {
      "cell_type": "code",
      "execution_count": null,
      "metadata": {
        "id": "uniUfB9j0Q61"
      },
      "outputs": [],
      "source": []
    }
  ],
  "metadata": {
    "colab": {
      "provenance": []
    },
    "kernelspec": {
      "display_name": "Python 3",
      "name": "python3"
    },
    "language_info": {
      "codemirror_mode": {
        "name": "ipython",
        "version": 3
      },
      "file_extension": ".py",
      "mimetype": "text/x-python",
      "name": "python",
      "nbconvert_exporter": "python",
      "pygments_lexer": "ipython3",
      "version": "3.11.6"
    }
  },
  "nbformat": 4,
  "nbformat_minor": 0
}
